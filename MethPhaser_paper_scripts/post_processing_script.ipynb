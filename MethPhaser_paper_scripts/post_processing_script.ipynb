{
 "cells": [
  {
   "cell_type": "code",
   "execution_count": 40,
   "id": "ef7771db-8e07-4651-9116-66b5f2ee5c31",
   "metadata": {},
   "outputs": [],
   "source": [
    "import pysam, os, re\n",
    "import pandas as pd\n",
    "import seaborn as sns\n",
    "from collections import Counter\n",
    "import numpy as np\n",
    "from pysam import VariantFile\n",
    "from tqdm import tqdm\n",
    "from itertools import groupby\n",
    "from operator import itemgetter\n",
    "from collections import Counter"
   ]
  },
  {
   "cell_type": "code",
   "execution_count": 2,
   "id": "d64f22ea-618e-4123-9d15-efbda2fecbba",
   "metadata": {},
   "outputs": [],
   "source": [
    "chrom_names = ['chr1', 'chr2', 'chr3', 'chr4', 'chr5', 'chr6', 'chr7', 'chr8', \n",
    "          'chr9', 'chr10', 'chr11', 'chr12', 'chr13', 'chr14', 'chr15', \n",
    "          'chr16', 'chr17', 'chr18', 'chr19', 'chr20', 'chr21', 'chr22']"
   ]
  },
  {
   "cell_type": "code",
   "execution_count": 3,
   "id": "6768ffee-ffcf-4001-9525-80678689fc1c",
   "metadata": {},
   "outputs": [],
   "source": [
    "def result_filtering(comparison_df, min_reads_num, min_variance):\n",
    "    comparison_df[comparison_df['same_hap_num'] + comparison_df['diff_hap_num'] <= min_reads_num] = comparison_df[comparison_df['same_hap_num'] + comparison_df['diff_hap_num'] <= min_reads_num].assign(myth_phasing_relationship = \"cannot decide\")\n",
    "    comparison_df[(abs(comparison_df['same_hap_num'] - comparison_df['diff_hap_num']) / (comparison_df['same_hap_num'] + comparison_df['diff_hap_num'])) <= min_variance] = comparison_df[(abs(comparison_df['same_hap_num'] - comparison_df['diff_hap_num']) / (comparison_df['same_hap_num'] + comparison_df['diff_hap_num'])) <= min_variance].assign(myth_phasing_relationship = \"cannot decide\")\n",
    "    return comparison_df"
   ]
  },
  {
   "cell_type": "code",
   "execution_count": 4,
   "id": "10953d36-0674-407c-ab6a-7262d855cfab",
   "metadata": {},
   "outputs": [],
   "source": [
    "def get_all_final_blocks_dict(block_relationship_df):\n",
    "    final_block_dict = {}\n",
    "    for i in range(1,23):\n",
    "        current_chr = f'chr{i}'\n",
    "        current_block_relationship_df = block_relationship_df[current_chr]\n",
    "        current_block_relationship_df_all = current_block_relationship_df[current_block_relationship_df.myth_phasing_relationship != 'cannot decide']  \n",
    "        \n",
    "        data = list(current_block_relationship_df_all.index)\n",
    "        current_chr_index = []\n",
    "        for k, g in groupby(enumerate(data), lambda ix : ix[0] - ix[1]):\n",
    "            current_chr_index.append(list(map(itemgetter(1), g)))\n",
    "        current_block_list = []\n",
    "        # print(current_chr_index)\n",
    "        for j in current_chr_index:\n",
    "            start = eval(current_block_relationship_df_all.loc[j[0]].snp_phased_block_1)[0]\n",
    "            end = eval(current_block_relationship_df_all.loc[j[-1]].snp_phased_block_2)[1]\n",
    "            current_block_list.append((start,end))\n",
    "        current_block_relationship_df_unknown = current_block_relationship_df[current_block_relationship_df.myth_phasing_relationship == 'cannot decide']\n",
    "        for j in list(current_block_relationship_df.index):\n",
    "            if j not in data:\n",
    "                if j == 0:\n",
    "                    start = eval(current_block_relationship_df.loc[j].snp_phased_block_1)[0]\n",
    "                    end = eval(current_block_relationship_df.loc[j].snp_phased_block_1)[1]\n",
    "                    current_block_list.append((start,end))\n",
    "                start = eval(current_block_relationship_df.loc[j].snp_phased_block_2)[0]\n",
    "                end = eval(current_block_relationship_df.loc[j].snp_phased_block_2)[1]\n",
    "                current_block_list.append((start,end))     \n",
    "        final_block_dict.update({current_chr:current_block_list})\n",
    "\n",
    "    return final_block_dict"
   ]
  },
  {
   "cell_type": "code",
   "execution_count": 5,
   "id": "bd37adc7-68c5-4be7-8700-b75f6ccc5637",
   "metadata": {},
   "outputs": [],
   "source": [
    "def get_block_relationships(input_folder, min_required_read=0, min_diff_perc=0):\n",
    "    relationship_df_by_chr = {}\n",
    "    crr_num = 0\n",
    "    err_num = 0\n",
    "    total_len = 0\n",
    "    for chr_name in chrom_names:\n",
    "        relationship_df = pd.DataFrame()\n",
    "        chr_folder_path = os.path.join(input_folder, chr_name)\n",
    "        for csv_file in sorted(os.listdir(chr_folder_path), key=lambda x: int(x.split('_')[0])):\n",
    "            csv_file_path = os.path.join(chr_folder_path, csv_file)\n",
    "            i = pd.read_csv(csv_file_path, index_col=0)[1:].reset_index()\n",
    "            i = result_filtering(i, min_required_read, min_diff_perc)\n",
    "            relationship_df = pd.concat([relationship_df, i], ignore_index = True)\n",
    "            relationship_df_by_chr.update({chr_name: relationship_df})\n",
    "    return relationship_df_by_chr"
   ]
  },
  {
   "cell_type": "code",
   "execution_count": 6,
   "id": "27289339-9ccb-4c64-a626-4e6ca31f3620",
   "metadata": {},
   "outputs": [],
   "source": [
    "def get_altered_block_start_loc(final_blocks, original_block_start_loc):\n",
    "    for i in final_blocks:\n",
    "        if original_block_start_loc <= i[1] and original_block_start_loc >= i[0]:\n",
    "            return str(i[0])\n",
    "    return -1\n"
   ]
  },
  {
   "cell_type": "code",
   "execution_count": 137,
   "id": "2720e5d8-5183-4225-8168-aee352170b34",
   "metadata": {},
   "outputs": [],
   "source": [
    "def get_altered_vcf(original_vcf, output_vcf, block_relationship_dfs):\n",
    "    final_block_dict = {}\n",
    "    called_vcf_file = VariantFile(original_vcf)\n",
    "    flipping_dict = {}\n",
    "    remaining_dict = {}\n",
    "    final_phase_block_dict = {}\n",
    "    os.makedirs(os.path.dirname(f\"./{output_vcf}\"), exist_ok=True) \n",
    "    with open(output_vcf, \"w\") as altered_vcf_file:\n",
    "        altered_vcf_file.writelines(str(called_vcf_file.header))\n",
    "        for chrom in tqdm(block_relationship_dfs.keys()):\n",
    "            # chrom = 'chr1'\n",
    "            current_chrom_final_block = get_all_final_blocks_dict(\n",
    "                block_relationship_dfs\n",
    "            )[chrom]\n",
    "            current_chrom_block_relationship_df = block_relationship_dfs[chrom]\n",
    "            # print(chrom, len(current_chrom_block_relationship_df))\n",
    "            final_block_list = []\n",
    "            flipping_list = []\n",
    "            block_num = 0\n",
    "            # print(current_chrom_block_relationship_df)\n",
    "            while block_num < len(current_chrom_block_relationship_df) - 1:\n",
    "                current_block_row = current_chrom_block_relationship_df.iloc[block_num]\n",
    "                if (\n",
    "                    current_block_row.myth_phasing_relationship == \"cannot decide\"\n",
    "                ):  # if the relationship is cannot decide then skip\n",
    "                    block_num += 1\n",
    "                else:\n",
    "                    current_block_start = (\n",
    "                        current_block_row.snp_phased_block_1\n",
    "                    )  # collect the assignment of the first block\n",
    "                    block_start = eval(current_block_start)[0]\n",
    "                    flipping_list.append((current_block_start, 1))\n",
    "                    flip_counter = 1  # never flip the first block\n",
    "                    current_relationship = (\n",
    "                        current_block_row.myth_phasing_relationship\n",
    "                    )  # the relationship between this and the next block\n",
    "                    flip_counter = apply_flip_counter(\n",
    "                        current_relationship, flip_counter\n",
    "                    )  # change flip couner into first block and next block\n",
    "                    current_block_num = block_num\n",
    "                    block_num += 1\n",
    "                    # if block_num >= len(current_chrom_block_relationship_df) - 1:\n",
    "                    #     break\n",
    "                    # print(flipping_list, block_num)\n",
    "                    \n",
    "                    while (\n",
    "                        (block_num < len(current_chrom_block_relationship_df)) and \n",
    "                        (current_chrom_block_relationship_df.iloc[\n",
    "                            block_num\n",
    "                        ].myth_phasing_relationship\n",
    "                        != \"cannot decide\")\n",
    "                    ):\n",
    "                        # print(flipping_list, block_num)\n",
    "                        flipping_list.append(\n",
    "                            (\n",
    "                                current_chrom_block_relationship_df.iloc[\n",
    "                                    block_num\n",
    "                                ].snp_phased_block_1,\n",
    "                                flip_counter,\n",
    "                            )\n",
    "                        )  # add flip counter\n",
    "                        flip_counter = apply_flip_counter(\n",
    "                            current_chrom_block_relationship_df.iloc[\n",
    "                                block_num\n",
    "                            ].myth_phasing_relationship,\n",
    "                            flip_counter,\n",
    "                        )  # change flip counter based on previous flip counter, snp block 1 and 2\n",
    "                        block_num += 1\n",
    "                    # block_num -= 1\n",
    "                    flipping_list.append(\n",
    "                        (\n",
    "                            current_chrom_block_relationship_df.iloc[\n",
    "                                block_num - 1\n",
    "                            ].snp_phased_block_2,\n",
    "                            flip_counter,\n",
    "                        )\n",
    "                    )\n",
    "                    current_block_length = block_num - current_block_num\n",
    "                    block_end = eval(\n",
    "                        current_chrom_block_relationship_df.iloc[\n",
    "                            block_num - 1\n",
    "                        ].snp_phased_block_2\n",
    "                    )[1]\n",
    "                    final_block_list.append((block_start, block_end))\n",
    "                    # print(flipping_list)\n",
    "            final_block_dict.update({chrom: final_block_list})\n",
    "            flipping_dict.update({chrom: flipping_list})\n",
    "            unphased_list = []\n",
    "            for index, i in enumerate(\n",
    "                current_chrom_block_relationship_df.snp_phased_block_1[:-1]\n",
    "            ):\n",
    "                unphased_list.append(\n",
    "                    (\n",
    "                        eval(i)[1],\n",
    "                        eval(\n",
    "                            current_chrom_block_relationship_df.snp_phased_block_1[\n",
    "                                index + 1\n",
    "                            ]\n",
    "                        )[0],\n",
    "                    )\n",
    "                )\n",
    "\n",
    "            for i in unphased_list:\n",
    "                called_vcf = called_vcf_file.fetch(chrom, i[0], i[1])\n",
    "                for rec in called_vcf:\n",
    "                    rec = str(rec)\n",
    "                    altered_vcf_file.writelines(rec)\n",
    "            for i in flipping_list:\n",
    "                current_block = eval(i[0])\n",
    "                called_vcf = called_vcf_file.fetch(\n",
    "                    chrom, current_block[0], current_block[1]\n",
    "                )\n",
    "                for rec in called_vcf:\n",
    "                    rec = str(rec)\n",
    "                    if i[1] == 1:\n",
    "                        altered_vcf_file.writelines(rec)\n",
    "                    else:\n",
    "                        if \"1|0\" in rec:\n",
    "                            if \"PS\" in rec.split(\"\\t\")[-2]:\n",
    "                                split_rec = rec.split(\"\\t\")\n",
    "                                ps_tag_location = split_rec[-2].split(\":\").index(\"PS\")\n",
    "                                start_loc = split_rec[-1].split(\":\")[ps_tag_location]\n",
    "                                # print(split_rec, start_loc)\n",
    "                                split_rec[-1] = split_rec[-1].replace(start_loc, get_altered_block_start_loc(current_chrom_final_block, int(start_loc)))  # type: ignore\n",
    "                                if split_rec[-2].split(\":\")[-1] == \"PS\":\n",
    "                                    rec = \"\\t\".join(split_rec)\n",
    "                                    rec = f\"{rec}\\n\"\n",
    "                                else:\n",
    "                                    rec = \"\\t\".join(split_rec)\n",
    "                            altered_vcf_file.writelines(rec.replace(\"1|0\", \"0|1\"))\n",
    "                        elif \"0|1\" in rec:\n",
    "                            if \"PS\" in rec.split(\"\\t\")[-2]:\n",
    "                                split_rec = rec.split(\"\\t\")\n",
    "                                ps_tag_location = split_rec[-2].split(\":\").index(\"PS\")\n",
    "                                start_loc = split_rec[-1].split(\":\")[ps_tag_location]\n",
    "                                # print(split_rec, start_loc)\n",
    "                                split_rec[-1] = split_rec[-1].replace(start_loc, get_altered_block_start_loc(current_chrom_final_block, int(start_loc)))  # type: ignore\n",
    "                                if split_rec[-2].split(\":\")[-1] == \"PS\":\n",
    "                                    rec = \"\\t\".join(split_rec)\n",
    "                                    rec = f\"{rec}\\n\"\n",
    "                                else:\n",
    "                                    rec = \"\\t\".join(split_rec)\n",
    "                            altered_vcf_file.writelines(rec.replace(\"0|1\", \"1|0\"))\n",
    "                        else:\n",
    "                            altered_vcf_file.writelines(rec)\n",
    "            flpl = [x[0] for x in flipping_list]\n",
    "            remaining_list = [\n",
    "                x\n",
    "                for x in list(current_chrom_block_relationship_df.snp_phased_block_1)\n",
    "                if x not in flpl\n",
    "            ]\n",
    "            if (\n",
    "                current_chrom_block_relationship_df.iloc[-1].snp_phased_block_2\n",
    "                not in flpl\n",
    "            ):\n",
    "                remaining_list.append(\n",
    "                    current_chrom_block_relationship_df.iloc[-1].snp_phased_block_2\n",
    "                )\n",
    "            remaining_dict.update({chrom: remaining_list})\n",
    "\n",
    "            for i in remaining_list:\n",
    "                current_block = eval(i)\n",
    "                called_vcf = called_vcf_file.fetch(\n",
    "                    chrom, current_block[0], current_block[1]\n",
    "                )\n",
    "                for rec in called_vcf:\n",
    "                    rec = str(rec)\n",
    "                    altered_vcf_file.writelines(rec)\n",
    "    # print(final_block_dict, remaining_dict, flipping_dict, unphased_list)\n",
    "    return final_block_dict, remaining_dict, flipping_dict"
   ]
  },
  {
   "cell_type": "code",
   "execution_count": 8,
   "id": "df99a9dd-69c6-454d-a5c8-549b84986155",
   "metadata": {},
   "outputs": [],
   "source": [
    "def get_tagged_read_number(input_folder):\n",
    "    phased_read_list = []\n",
    "    for chrom in range(1,23):\n",
    "        current_chrom = f\"chr{chrom}\"\n",
    "        assignment_path = os.path.join(input_folder, f\"{current_chrom}_read_assignment\")\n",
    "        read_assignment_block_files = os.listdir(assignment_path)\n",
    "        for j in read_assignment_block_files:\n",
    "            read_assignment_df = pd.read_csv(os.path.join(assignment_path, j))\n",
    "            for k in read_assignment_df[read_assignment_df.haplotype != 0].read_id:\n",
    "                phased_read_list.append(k)\n",
    "                # print(k)\n",
    "    return (len(set(phased_read_list)))"
   ]
  },
  {
   "cell_type": "code",
   "execution_count": 9,
   "id": "9f19f620-5281-4c48-b7a0-75b59de10cd1",
   "metadata": {},
   "outputs": [],
   "source": [
    "def calculate_block_number(methphased_block_df):\n",
    "    r_30 = 0\n",
    "    for i in methphased_block_df.keys():\n",
    "        chr_df = methphased_block_df[i]\n",
    "        current_chr_df = chr_df[chr_df.myth_phasing_relationship != \"cannot decide\"]\n",
    "        # print(len(chr_df), len(current_chr_df))\n",
    "        r_30 += len(current_chr_df)\n",
    "    return r_30"
   ]
  },
  {
   "cell_type": "code",
   "execution_count": 10,
   "id": "e7f8ad8b-e25e-438d-970c-5ce826770d2c",
   "metadata": {},
   "outputs": [],
   "source": [
    "def get_whatshap_phase_block_dict(gtf_file):\n",
    "    phased_block_chr_whatshap_dict = {}\n",
    "    for i in chrom_names:\n",
    "        phased_block_df = pd.read_csv(gtf_file, header=None, sep=\"\\t\",\n",
    "            names=[\"chr\",\"phasing\",\"ex/intron\",\"start\",\"end\",\"1\",\"strand\",\"2\",\"info\",],)\n",
    "        phased_block_df_current_chrom = phased_block_df[phased_block_df.chr == i]\n",
    "        phased_block_chr_whatshap_dict.update({i: list(zip(phased_block_df_current_chrom[\"start\"], phased_block_df_current_chrom[\"end\"]))})\n",
    "    return phased_block_chr_whatshap_dict"
   ]
  },
  {
   "cell_type": "code",
   "execution_count": 11,
   "id": "cc291ff7-4171-4697-a4cb-79b3c74df2db",
   "metadata": {},
   "outputs": [],
   "source": [
    "def get_crr_final_blocks_dict(block_relationship_df):\n",
    "    final_block_dict = {}\n",
    "    for i in range(1,23):\n",
    "        current_chr = f'chr{i}'\n",
    "        current_block_relationship_df = block_relationship_df[current_chr]\n",
    "        if \"vcf_file_relationship\" in current_block_relationship_df:\n",
    "            current_block_relationship_df_crr = current_block_relationship_df[((current_block_relationship_df.vcf_file_relationship == 'same') & (current_block_relationship_df.myth_phasing_relationship == 'same')) | ((current_block_relationship_df.vcf_file_relationship == 'not same') & (current_block_relationship_df.myth_phasing_relationship == 'not same'))]  \n",
    "        else:\n",
    "            current_block_relationship_df_crr = current_block_relationship_df\n",
    "        data = list(current_block_relationship_df_crr.index)\n",
    "        current_chr_index = []\n",
    "        for k, g in groupby(enumerate(data), lambda ix : ix[0] - ix[1]):\n",
    "            current_chr_index.append(list(map(itemgetter(1), g)))\n",
    "        current_block_list = []\n",
    "        for j in current_chr_index:\n",
    "            start = eval(current_block_relationship_df_crr.loc[j[0]].snp_phased_block_1)[0]\n",
    "            end = eval(current_block_relationship_df_crr.loc[j[-1]].snp_phased_block_2)[1]\n",
    "            current_block_list.append((start,end))\n",
    "        final_block_dict.update({current_chr:current_block_list})\n",
    "    return final_block_dict"
   ]
  },
  {
   "cell_type": "code",
   "execution_count": 12,
   "id": "299f42bc-0598-4478-8aaf-5cd031c4d9be",
   "metadata": {},
   "outputs": [],
   "source": [
    "def get_all_final_blocks_dict(block_relationship_df):\n",
    "    final_block_dict = {}\n",
    "    for i in range(1,23):\n",
    "        current_chr = f'chr{i}'\n",
    "        current_block_relationship_df = block_relationship_df[current_chr]\n",
    "        # if \"vcf_file_relationship\" in current_block_relationship_df:\n",
    "        #     current_block_relationship_df_crr = current_block_relationship_df[((current_block_relationship_df.vcf_file_relationship == 'same') & (current_block_relationship_df.myth_phasing_relationship == 'same')) | ((current_block_relationship_df.vcf_file_relationship == 'not same') & (current_block_relationship_df.myth_phasing_relationship == 'not same'))]  \n",
    "        current_block_relationship_df_crr = current_block_relationship_df\n",
    "        data = list(current_block_relationship_df_crr.index)\n",
    "        current_chr_index = []\n",
    "        for k, g in groupby(enumerate(data), lambda ix : ix[0] - ix[1]):\n",
    "            current_chr_index.append(list(map(itemgetter(1), g)))\n",
    "        current_block_list = []\n",
    "        for j in current_chr_index:\n",
    "            start = eval(current_block_relationship_df_crr.loc[j[0]].snp_phased_block_1)[0]\n",
    "            end = eval(current_block_relationship_df_crr.loc[j[-1]].snp_phased_block_2)[1]\n",
    "            current_block_list.append((start,end))\n",
    "        final_block_dict.update({current_chr:current_block_list})\n",
    "    return final_block_dict"
   ]
  },
  {
   "cell_type": "code",
   "execution_count": 13,
   "id": "2c1d901a-c482-4b14-abeb-4d3e6332fbf4",
   "metadata": {},
   "outputs": [],
   "source": [
    "def get_genome_n50(final_block_dict):\n",
    "    genome_block_len_list = []\n",
    "    for i in final_block_dict.values():\n",
    "        for j in i:\n",
    "            genome_block_len_list.append(j[1]-j[0])\n",
    "    sum_block_len = 0\n",
    "    for i in sorted(genome_block_len_list):\n",
    "        sum_block_len += i\n",
    "        if sum_block_len > sum(genome_block_len_list)/2:\n",
    "            return i\n"
   ]
  },
  {
   "cell_type": "code",
   "execution_count": 14,
   "id": "2d798279-ac89-4d98-982a-7fcc85555f8e",
   "metadata": {},
   "outputs": [],
   "source": [
    "def get_whatshap_n50(gtf_file):\n",
    "    phased_block_chr_whatshap_dict = get_whatshap_phase_block_dict(gtf_file)\n",
    "    return get_genome_n50(phased_block_chr_whatshap_dict)\n",
    "def get_methphase_n50(block_relationship_df):\n",
    "    final_blocks = get_crr_final_blocks_dict(block_relationship_df)\n",
    "    return get_genome_n50(final_blocks)"
   ]
  },
  {
   "cell_type": "code",
   "execution_count": 15,
   "id": "f9c19369-3b8e-41ee-88c6-62869334adaf",
   "metadata": {},
   "outputs": [],
   "source": [
    "def get_whatshap_block_num(gtf_file):\n",
    "    line_num = 0\n",
    "    with open(gtf_file, \"r\") as gf:\n",
    "        line_num = len(gf.readlines())\n",
    "    return line_num"
   ]
  },
  {
   "cell_type": "code",
   "execution_count": 16,
   "id": "cbe17321-73c4-4bdd-8205-15a9765ca026",
   "metadata": {},
   "outputs": [],
   "source": [
    "def get_untagged_reads(current_block_reads_df, block_start, block_end):\n",
    "    return current_block_reads_df[current_block_reads_df.ref_start <= block_end]"
   ]
  },
  {
   "cell_type": "code",
   "execution_count": 17,
   "id": "fc029876-42cf-41b3-b900-507391b6e09e",
   "metadata": {},
   "outputs": [],
   "source": [
    "def get_altered_bam(flipping_dict, remaining_dict, block_relationship_dfs, input_bam_file, original_bam_file, modified_bam_file, assignment_path, chrom):\n",
    "    input_bam = pysam.AlignmentFile(\n",
    "        input_bam_file, \"rb\")\n",
    "    original_bam = pysam.AlignmentFile(\n",
    "        original_bam_file, \"rb\")\n",
    "    modified_bam = pysam.AlignmentFile(\n",
    "        modified_bam_file, \"wb\", template=original_bam)\n",
    "\n",
    "\n",
    "    sorted_read_assignment_files = sorted(os.listdir(\n",
    "        assignment_path), key=lambda x: int(x.split('_')[0]))\n",
    "    # print(sorted_read_assignment_files)\n",
    "    # return\n",
    "    flipping_dict_chom = dict(flipping_dict[chrom])\n",
    "    # snp block that does not have relationship assignment are not affected.\n",
    "    snp_block_flipping_chom = dict(\n",
    "        zip(remaining_dict[chrom], [1]*len(remaining_dict[chrom])))\n",
    "    snp_block_flipping_chom.update(flipping_dict_chom)\n",
    "    overlapped_reads_list = []\n",
    "    \n",
    "    # reads_before_first_block = input_bam.fetch(\n",
    "    #     chrom, 0, int(sorted_read_assignment_files[0].split('-')[0]))\n",
    "    # for reads in reads_before_first_block:\n",
    "    #     modified_bam.write(reads)\n",
    "    # reads_after_last_block = input_bam.fetch(chrom, int(re.split('-|\\.', sorted_read_assignment_files[-1])[1]), input_bam.get_reference_length(chrom))\n",
    "    # for reads in reads_after_last_block:\n",
    "    #     modified_bam.write(reads)\n",
    "    for index, i in tqdm(enumerate(sorted_read_assignment_files)):\n",
    "        # the vital part is to deal with the overlapped reads\n",
    "        splitted_block_name = re.split(\"\\\\.|_\", i)\n",
    "        current_block = f\"({splitted_block_name[1]}, {splitted_block_name[2]})\" # extended block\n",
    "        current_block_reads_f_path = os.path.join(assignment_path, i)\n",
    "        if index < len(sorted_read_assignment_files)-1:\n",
    "            next_block_reads_f_path = os.path.join(\n",
    "                assignment_path, sorted_read_assignment_files[index+1])  # why we need sorted file names\n",
    "            next_block_reads_df = pd.read_csv(next_block_reads_f_path)\n",
    "        if index == len(sorted_read_assignment_files) - 1:\n",
    "            current_snp_block = block_relationship_dfs[chrom].snp_phased_block_2[index-1]\n",
    "        else:\n",
    "            current_snp_block = block_relationship_dfs[chrom].snp_phased_block_1[index]\n",
    "            \n",
    "        current_block_reads_df = pd.read_csv(current_block_reads_f_path)\n",
    "        \n",
    "        current_block_reads_df = current_block_reads_df[current_block_reads_df.ref_start <= eval(current_snp_block)[1]]\n",
    "        \n",
    "        current_block_reads_df = current_block_reads_df[~current_block_reads_df.read_id.isin(\n",
    "            overlapped_reads_list)]  # remove reads that overlapped with the previous block\n",
    "\n",
    "        current_block_reads = input_bam.fetch(chrom, int(splitted_block_name[1]), eval(current_snp_block)[1])  # fetch reads with this block\n",
    "        read_to_hp_dict = dict(\n",
    "            zip(current_block_reads_df['read_id'], current_block_reads_df['haplotype']))\n",
    "        current_flip_flag = snp_block_flipping_chom[current_snp_block]\n",
    "        if current_flip_flag == 1:\n",
    "            for reads in current_block_reads:\n",
    "                # if the read is overlapped with previous block's reads, it should not be re-assigned\n",
    "                if reads.query_name not in overlapped_reads_list:\n",
    "                    # previously unhaplotagged\n",
    "                    if reads.query_name in list(current_block_reads_df.read_id):\n",
    "                        if read_to_hp_dict[reads.query_name] == 1:\n",
    "                            reads.set_tag(tag='HP', value=1, value_type='i')\n",
    "                            modified_bam.write(reads)\n",
    "                        elif read_to_hp_dict[reads.query_name] == 2:\n",
    "                            reads.set_tag(tag='HP', value=2, value_type='i')\n",
    "                            modified_bam.write(reads)\n",
    "                        else:  # still unhaplotagged\n",
    "                            modified_bam.write(reads)\n",
    "                    else:\n",
    "                        # not modifying the previous reads, just output.\n",
    "                        modified_bam.write(reads)\n",
    "        elif current_flip_flag == -1:\n",
    "            for reads in current_block_reads:\n",
    "                # if the read is overlapped with previous reads, it should not be re-assigned\n",
    "                if reads.query_name not in overlapped_reads_list:\n",
    "                    # previously unhaplotagged\n",
    "                    if reads.query_name in list(current_block_reads_df.read_id):\n",
    "                        if read_to_hp_dict[reads.query_name] == 1:  # switch\n",
    "                            reads.set_tag(tag='HP', value=2, value_type='i')\n",
    "                            print('3b81e4c2-6d4f-48d0-ab2d-055fa69f8141', 'Has HP tag 1, no switch')\n",
    "                            modified_bam.write(reads)\n",
    "                        elif read_to_hp_dict[reads.query_name] == 2:\n",
    "                            reads.set_tag(tag='HP', value=1, value_type='i')\n",
    "                            print('3b81e4c2-6d4f-48d0-ab2d-055fa69f8141', 'Has HP tag 2, no switch')\n",
    "                            modified_bam.write(reads)\n",
    "                        else:  # still unhaplotagged\n",
    "                            modified_bam.write(reads)\n",
    "                    else:\n",
    "                        if reads.has_tag('HP'):  # switch already called ones\n",
    "                            if reads.get_tag('HP') == 1:\n",
    "                                reads.set_tag(tag='HP', value=2,\n",
    "                                              value_type='i')\n",
    "                                print('3b81e4c2-6d4f-48d0-ab2d-055fa69f8141', 'Has HP tag 1')\n",
    "                                modified_bam.write(reads)\n",
    "                            elif reads.get_tag('HP') == 2:\n",
    "                                print('3b81e4c2-6d4f-48d0-ab2d-055fa69f8141', 'Has HP tag 2')\n",
    "                                reads.set_tag(tag='HP', value=1,\n",
    "                                              value_type='i')\n",
    "                                modified_bam.write(reads)\n",
    "                    # all previously unhaplotagged reads were considered before\n",
    "        # print(len(overlapped_reads_list))\n",
    "        overlapped_reads_list = list(next_block_reads_df[next_block_reads_df.read_id.isin(list(current_block_reads_df.read_id))].read_id)  # update the list to current and next block's overlaps\n",
    "        # if 'd0aac57a-3d69-40a4-9ded-4b879a6679e9' in overlapped_reads_list: print('d0aac57a-3d69-40a4-9ded-4b879a6679e9', overlapped_reads_list)\n",
    "    modified_bam.close()"
   ]
  },
  {
   "cell_type": "code",
   "execution_count": 18,
   "id": "34f539c1-cda9-4d7f-8131-1fdc5b1885ff",
   "metadata": {},
   "outputs": [],
   "source": [
    "def get_chrom_n50(final_block_dict):\n",
    "    chrom_n50 = {}\n",
    "    for chrom in final_block_dict.keys():\n",
    "        block_len_list = []\n",
    "        for i in final_block_dict[chrom]:\n",
    "            block_len_list.append(i[1]-i[0])\n",
    "        sum_block_len = 0\n",
    "        for i in sorted(block_len_list, reverse=False):\n",
    "            sum_block_len += i\n",
    "            if sum_block_len > sum(block_len_list)/2:\n",
    "                chrom_n50.update({chrom:i})\n",
    "                break\n",
    "    return chrom_n50"
   ]
  },
  {
   "cell_type": "code",
   "execution_count": 243,
   "id": "cc10a895-b8c8-4e84-b435-87e00debc755",
   "metadata": {},
   "outputs": [
    {
     "name": "stderr",
     "output_type": "stream",
     "text": [
      "100%|██████████| 22/22 [00:41<00:00,  1.90s/it]\n"
     ]
    }
   ],
   "source": [
    "block_relationships_df_30x_high_acc = get_block_relationships(\"/data/yf20/meth_phasing/30x/whole_genome_6/\", 8, 0.5)\n",
    "final_block_dict_30x, remaining_dict_30x, flipping_dict_30x = get_altered_vcf(\"/data/yf20/meth_phasing/30x/30x.filtered.phased.VCF.gz\", \"/data/yf20/meth_phasing/30x/30x.filtered.alteded.vcf\", block_relationships_df_30x_high_acc)"
   ]
  },
  {
   "cell_type": "code",
   "execution_count": 188,
   "id": "5eea985b-852d-4364-96a0-56367bc479ac",
   "metadata": {},
   "outputs": [
    {
     "name": "stderr",
     "output_type": "stream",
     "text": [
      "100%|██████████| 22/22 [00:33<00:00,  1.54s/it]\n"
     ]
    }
   ],
   "source": [
    "block_relationships_df_60x_high_acc = get_block_relationships(\"/data/yf20/meth_phasing/60x/whole_genome_6/\", 15, 0.5)\n",
    "final_block_dict_60x, remaining_dict_60x, flipping_dict_60x = get_altered_vcf(\"/data/yf20/meth_phasing/60x/60x.filtered.txt.phased.VCF.gz\", \"/data/yf20/meth_phasing/60x/60x.filtered.altered.vcf\", block_relationships_df_60x_high_acc)"
   ]
  },
  {
   "cell_type": "code",
   "execution_count": 38,
   "id": "04261637-0188-4614-afad-ee886c6a69fa",
   "metadata": {},
   "outputs": [
    {
     "name": "stderr",
     "output_type": "stream",
     "text": [
      "100%|██████████| 22/22 [00:22<00:00,  1.01s/it]\n"
     ]
    }
   ],
   "source": [
    "block_relationships_df_LSK60x_high_acc = get_block_relationships(\"/data/yf20/meth_phasing/LSK/whole_genome_6/\", 15, 0.5)\n",
    "final_block_dict_LSK_60x, remaining_dict_LSK_60x, flipping_dict_LSK_60x = get_altered_vcf(\"/data/yf20/meth_phasing/LSK/LSK.phased.blocks.phased.VCF.gz\", \"/data/yf20/meth_phasing/LSK/LSK60x.filtered.altered.vcf\", block_relationships_df_LSK60x_high_acc)"
   ]
  },
  {
   "cell_type": "code",
   "execution_count": 386,
   "id": "3e377d63-20fa-4a5a-9efe-1412ff0ad398",
   "metadata": {},
   "outputs": [
    {
     "name": "stderr",
     "output_type": "stream",
     "text": [
      "100%|██████████| 22/22 [00:22<00:00,  1.03s/it]\n"
     ]
    }
   ],
   "source": [
    "block_relationships_df_LSK30x_high_acc = get_block_relationships(\"/data/yf20/meth_phasing/LSK30X/whole_genome_6/\", 8, 0.5)\n",
    "final_block_dict_LSK30x, remaining_dict_LSK30x, flipping_dict_LSK30x = get_altered_vcf(\"/data/yf20/meth_phasing/LSK30X/LSK30X.phased.blocks.phased.VCF.gz\", \"/data/yf20/meth_phasing/LSK30X/LSK30x.filtered.altered.vcf\", block_relationships_df_LSK30x_high_acc)"
   ]
  },
  {
   "cell_type": "code",
   "execution_count": 377,
   "id": "87d8e91b-3c46-4520-bb38-a1f59b652d9a",
   "metadata": {},
   "outputs": [
    {
     "name": "stderr",
     "output_type": "stream",
     "text": [
      "100%|██████████| 22/22 [00:44<00:00,  2.02s/it]\n"
     ]
    }
   ],
   "source": [
    "block_relationships_df_80x_high_acc = get_block_relationships(\"/data/yf20/meth_phasing/80x/whole_genome_7/\", 20, 0.5)\n",
    "final_block_dict_30x, remaining_dict_30x, flipping_dict_30x = get_altered_vcf(\"/data/yf20/meth_phasing/80x/80x.called.phased_blocks.regions.txt.phased.VCF.gz\", \"/data/yf20/meth_phasing/80x/80x.filtered.altered.vcf\", block_relationships_df_80x_high_acc)"
   ]
  },
  {
   "cell_type": "code",
   "execution_count": 180,
   "id": "b7955d79-de9a-4222-9571-adcacbf618b9",
   "metadata": {},
   "outputs": [
    {
     "name": "stderr",
     "output_type": "stream",
     "text": [
      "100%|██████████| 22/22 [00:26<00:00,  1.21s/it]\n"
     ]
    }
   ],
   "source": [
    "block_relationships_df_60x_high_sr = get_block_relationships(\"/data/yf20/meth_phasing/60x/whole_genome_6/\", 0, 0)\n",
    "final_block_dict_sr_60x, remaining_dict_sr_60x, flipping_dict_sr_60x = get_altered_vcf(\"/data/yf20/meth_phasing/60x/60x.filtered.txt.phased.VCF.gz\", \"/data/yf20/meth_phasing/60x/60x.filtered.altered.high.sr.vcf\", block_relationships_df_60x_high_sr)"
   ]
  },
  {
   "cell_type": "code",
   "execution_count": 389,
   "id": "b06dea8f-710e-4f35-b4de-29f210035b82",
   "metadata": {},
   "outputs": [
    {
     "data": {
      "text/plain": [
       "{'chr1': 3166893,\n",
       " 'chr2': 1909444,\n",
       " 'chr3': 3110131,\n",
       " 'chr4': 4620516,\n",
       " 'chr5': 3233597,\n",
       " 'chr6': 2667030,\n",
       " 'chr7': 2881244,\n",
       " 'chr8': 2842318,\n",
       " 'chr9': 3359831,\n",
       " 'chr10': 3006846,\n",
       " 'chr11': 2908713,\n",
       " 'chr12': 2997087,\n",
       " 'chr13': 4382530,\n",
       " 'chr14': 3046975,\n",
       " 'chr15': 3155371,\n",
       " 'chr16': 1768165,\n",
       " 'chr17': 3259489,\n",
       " 'chr18': 3211004,\n",
       " 'chr19': 2278852,\n",
       " 'chr20': 3875227,\n",
       " 'chr21': 5705649,\n",
       " 'chr22': 6116840}"
      ]
     },
     "execution_count": 389,
     "metadata": {},
     "output_type": "execute_result"
    }
   ],
   "source": [
    "get_chrom_n50(final_block_dict_LSK30x)"
   ]
  },
  {
   "cell_type": "code",
   "execution_count": 390,
   "id": "660c6be0-fe4f-430b-9554-55c5ab95b8b7",
   "metadata": {},
   "outputs": [
    {
     "data": {
      "text/plain": [
       "{'chr1': 1672792,\n",
       " 'chr2': 1421262,\n",
       " 'chr3': 1757301,\n",
       " 'chr4': 2177673,\n",
       " 'chr5': 2277321,\n",
       " 'chr6': 1764402,\n",
       " 'chr7': 1693540,\n",
       " 'chr8': 1731173,\n",
       " 'chr9': 1920489,\n",
       " 'chr10': 1591087,\n",
       " 'chr11': 1757484,\n",
       " 'chr12': 1559145,\n",
       " 'chr13': 1982929,\n",
       " 'chr14': 1809327,\n",
       " 'chr15': 1524211,\n",
       " 'chr16': 1447782,\n",
       " 'chr17': 1408466,\n",
       " 'chr18': 1554796,\n",
       " 'chr19': 1686347,\n",
       " 'chr20': 1944123,\n",
       " 'chr21': 1679614,\n",
       " 'chr22': 1703591}"
      ]
     },
     "execution_count": 390,
     "metadata": {},
     "output_type": "execute_result"
    }
   ],
   "source": [
    "get_chrom_n50(get_whatshap_phase_block_dict(\"/data/yf20/meth_phasing/LSK30X/LSK30X.filtered.gtf\"))"
   ]
  },
  {
   "cell_type": "code",
   "execution_count": 36,
   "id": "e518d1f1-64b2-4475-9792-ebb320bd9e61",
   "metadata": {},
   "outputs": [],
   "source": [
    "def get_genome_nx(final_block_dict, nx):\n",
    "    genome_block_len_list = []\n",
    "    for i in final_block_dict.values():\n",
    "        for j in i:\n",
    "            genome_block_len_list.append(j[1]-j[0])\n",
    "    sum_block_len = 0\n",
    "    for i in sorted(genome_block_len_list):\n",
    "        sum_block_len += i\n",
    "        if sum_block_len > sum(genome_block_len_list)*nx:\n",
    "            return i\n",
    "\n",
    "\n",
    "\n",
    "def get_whatshap_nx(gtf_file, nx):\n",
    "    phased_block_chr_whatshap_dict = get_whatshap_phase_block_dict(gtf_file)\n",
    "    return get_genome_nx(phased_block_chr_whatshap_dict, nx)\n",
    "def get_methphase_nx(block_relationship_df, nx):\n",
    "    final_blocks = get_crr_final_blocks_dict(block_relationship_df)\n",
    "    return get_genome_nx(final_blocks, nx)"
   ]
  },
  {
   "cell_type": "code",
   "execution_count": 114,
   "id": "e591fa53-7d2d-4035-aebc-457b80ed4ea0",
   "metadata": {},
   "outputs": [],
   "source": [
    "whatshap_nx_curve = []\n",
    "methphase_nx_curve = []\n",
    "for i in np.linspace(0.1, 0.9, 9):\n",
    "    whatshap_nx_curve.append(get_whatshap_nx(\"/data/yf20/meth_phasing/LSK/LSK.filtered.gtf\", i))\n",
    "    methphase_nx_curve.append(get_methphase_nx(block_relationships_df_LSK60x_high_acc, i))"
   ]
  },
  {
   "cell_type": "code",
   "execution_count": 117,
   "id": "99d52dbf-daba-43ac-a416-178eb8e36472",
   "metadata": {},
   "outputs": [
    {
     "data": {
      "text/plain": [
       "Text(0.5, 1.0, 'N10-N90 Curve')"
      ]
     },
     "execution_count": 117,
     "metadata": {},
     "output_type": "execute_result"
    },
    {
     "data": {
      "image/png": "[encoded data removed]",
      "text/plain": [
       "<Figure size 640x480 with 1 Axes>"
      ]
     },
     "metadata": {},
     "output_type": "display_data"
    }
   ],
   "source": [
    "import matplotlib.pyplot as plt\n",
    "fig, axes = plt.subplots(1,1)\n",
    "x_lables =[str(int(x)) for x in np.linspace(10, 90, 9)]\n",
    "# sns.lineplot(, y=y_values1, label=\"Line 1\")\n",
    "line0 = sns.lineplot(x=x_lables, ax=axes)\n",
    "line1 = sns.lineplot(data=whatshap_nx_curve,  ax=axes, label=\"SNV Phasing Nx\")\n",
    "line2 = sns.lineplot(data=methphase_nx_curve,  ax=axes, label=\"MethPhaser Phasing Nx\")\n",
    "# plt.xticks(x_lables, rotation=45)\n",
    "\n",
    "plt.xlabel(\"Nx Number\")\n",
    "plt.ylabel(\"Nx\")\n",
    "plt.title(\"N10-N90 Curve\")\n",
    "# (whatshap_nx_curve, methphase_nx_curve)"
   ]
  },
  {
   "cell_type": "code",
   "execution_count": 104,
   "id": "38215efb-4f18-4061-b7b1-9f511fea96e3",
   "metadata": {},
   "outputs": [
    {
     "data": {
      "text/plain": [
       "['10', '20', '30', '40', '50', '60', '70', '80', '90', '100']"
      ]
     },
     "execution_count": 104,
     "metadata": {},
     "output_type": "execute_result"
    }
   ],
   "source": [
    "x_lables"
   ]
  },
  {
   "cell_type": "code",
   "execution_count": 70,
   "id": "b4763fcd-7dc5-4e93-9124-ed4d984fb435",
   "metadata": {},
   "outputs": [
    {
     "data": {
      "image/png": "[encoded data removed]",
      "text/plain": [
       "<Figure size 800x600 with 1 Axes>"
      ]
     },
     "metadata": {},
     "output_type": "display_data"
    }
   ],
   "source": [
    "\n",
    "# Two lists of data\n",
    "x_values = [1, 2, 3, 4, 5]\n",
    "y_values1 = [3, 6, 4, 8, 5]\n",
    "y_values2 = [2, 4, 5, 7, 6]\n",
    "\n",
    "# Create a Seaborn lineplot\n",
    "sns.set(style=\"whitegrid\")  # Set the style of the plot\n",
    "plt.figure(figsize=(8, 6))  # Set the figure size\n",
    "\n",
    "# Plot the first line\n",
    "line1 = sns.lineplot(x=x_values, y=y_values1, label=\"Line 1\")\n",
    "\n",
    "# Plot the second line\n",
    "line2 = sns.lineplot(x=x_values, y=y_values2, label=\"Line 2\")\n",
    "\n",
    "# Add labels and title\n",
    "plt.xlabel(\"X Values\")\n",
    "plt.ylabel(\"Y Values\")\n",
    "plt.title(\"Two Lines with Seaborn\")\n",
    "\n",
    "# Customize legend\n",
    "plt.legend(handles=[line1.lines[0], line2.lines[0]], labels=['Line 1', 'Line 2'])\n",
    "\n",
    "# Show the plot\n",
    "plt.show()"
   ]
  },
  {
   "cell_type": "code",
   "execution_count": null,
   "id": "221da280-3947-45a2-b875-bf9c4c364cfa",
   "metadata": {},
   "outputs": [
    {
     "name": "stdout",
     "output_type": "stream",
     "text": [
      "1277625 1706719 3034229 1720208 1904864 2279142 3997227 5975765 3152506 4824056\n"
     ]
    }
   ],
   "source": [
    "\n",
    "print(\n",
    "    get_whatshap_n50(\"/data/yf20/meth_phasing/30x/30x.filtered.gtf\"),\n",
    "    get_whatshap_n50(\"/data/yf20/meth_phasing/60x/60x.filtered.gtf\"),\n",
    "    get_whatshap_n50(\"/data/yf20/meth_phasing/LSK/LSK.filtered.gtf\"),\n",
    "    get_whatshap_n50(\"/data/yf20/meth_phasing/LSK30X/LSK30X.filtered.gtf\"),\n",
    "    get_whatshap_n50(\"/data/yf20/meth_phasing/80x/80x.called.regions.gtf\"),\n",
    "    get_methphase_n50(block_relationships_df_30x_high_acc),\n",
    "    get_methphase_n50(block_relationships_df_60x_high_acc),\n",
    "    get_methphase_n50(block_relationships_df_LSK60x_high_acc),\n",
    "    get_methphase_n50(block_relationships_df_LSK30x_high_acc),\n",
    "    get_methphase_n50(block_relationships_df_80x_high_acc)\n",
    ")"
   ]
  },
  {
   "cell_type": "code",
   "execution_count": null,
   "id": "9ea5cf28-afaf-4b58-9605-01e6eb3b69bf",
   "metadata": {},
   "outputs": [],
   "source": []
  },
  {
   "cell_type": "code",
   "execution_count": 379,
   "id": "903f6555-9779-4ef5-a37a-6b0e11e07d8b",
   "metadata": {},
   "outputs": [
    {
     "name": "stdout",
     "output_type": "stream",
     "text": [
      "1026 1457 571 648 1440\n"
     ]
    }
   ],
   "source": [
    "print(\n",
    "    calculate_block_number(block_relationships_df_30x_high_acc),\n",
    "    calculate_block_number(block_relationships_df_60x_high_acc),\n",
    "    calculate_block_number(block_relationships_df_LSK30x_high_acc),\n",
    "    calculate_block_number(block_relationships_df_LSK60x_high_acc),\n",
    "    calculate_block_number(block_relationships_df_80x_high_acc)\n",
    ")"
   ]
  },
  {
   "cell_type": "code",
   "execution_count": 380,
   "id": "aa82c7cc-e08c-47bd-ae9b-8092d4864070",
   "metadata": {},
   "outputs": [
    {
     "name": "stdout",
     "output_type": "stream",
     "text": [
      "4518 3179 1820 3068 2839\n"
     ]
    }
   ],
   "source": [
    "print(\n",
    "    get_whatshap_block_num(\"/data/yf20/meth_phasing/30x/30x.filtered.gtf\"),\n",
    "    get_whatshap_block_num(\"/data/yf20/meth_phasing/60x/60x.filtered.gtf\"),\n",
    "    get_whatshap_block_num(\"/data/yf20/meth_phasing/LSK/LSK.filtered.gtf\"),\n",
    "    get_whatshap_block_num(\"/data/yf20/meth_phasing/LSK30X/LSK30X.filtered.gtf\"),\n",
    "    get_whatshap_block_num(\"/data/yf20/meth_phasing/80x/80x.called.regions.gtf\"),\n",
    ")"
   ]
  },
  {
   "cell_type": "code",
   "execution_count": 65,
   "id": "a79478e8-789d-41a1-bcec-8edceb21c584",
   "metadata": {},
   "outputs": [
    {
     "name": "stdout",
     "output_type": "stream",
     "text": [
      "802529 1867831 501170 1138593 1534961\n"
     ]
    }
   ],
   "source": [
    "print(\n",
    "    get_tagged_read_number(\"/data/yf20/meth_phasing/LSK30X/whole_genome_6/\"),\n",
    "    get_tagged_read_number(\"/data/yf20/meth_phasing/LSK/whole_genome_6/\"),\n",
    "    get_tagged_read_number(\"/data/yf20/meth_phasing/30x/whole_genome_6/\"),\n",
    "    get_tagged_read_number(\"/data/yf20/meth_phasing/60x/whole_genome_6/\"),\n",
    "    get_tagged_read_number(\"/data/yf20/meth_phasing/80x/whole_genome_7/\"),\n",
    ")"
   ]
  },
  {
   "cell_type": "code",
   "execution_count": 42,
   "id": "589bea5a-4c1b-4e91-abba-55f32522a218",
   "metadata": {},
   "outputs": [],
   "source": [
    "\n",
    "def get_connected_homozygous_rgions(block_relationship_dfs):\n",
    "    for i in range(1,23):\n",
    "        current_chr = f'chr{i}'\n",
    "        current_block_relationship_df_crr = current_block_relationship_df[((current_block_relationship_df.vcf_file_relationship == 'same') & (current_block_relationship_df.myth_phasing_relationship == 'same')) | ((current_block_relationship_df.vcf_file_relationship == 'not same') & (current_block_relationship_df.myth_phasing_relationship == 'not same'))]  \n",
    "    return\n"
   ]
  },
  {
   "cell_type": "code",
   "execution_count": 28,
   "id": "257d7316-8dbc-4e20-9102-930138e47ed3",
   "metadata": {},
   "outputs": [],
   "source": [
    "def output_gtf(final_blocks_dict, gtf_file):\n",
    "    with open(gtf_file, \"w\") as gf:\n",
    "        for keys in final_blocks_dict.keys():\n",
    "            for blocks in final_blocks_dict[keys]:\n",
    "                gf.writelines(f\"{keys}\\tPhasing\\texon\\t{blocks[0]}\\t{blocks[1]}\\t.\\t+\\t.\\tgene_id \\\"{blocks[0]}\\\"; transcript_id \\\"{blocks[0]}.1\\\";\\n\")"
   ]
  },
  {
   "cell_type": "code",
   "execution_count": 60,
   "id": "d7422273-758e-4679-aa80-437d0f0c5a5a",
   "metadata": {},
   "outputs": [],
   "source": [
    "output_gtf(get_crr_final_blocks_dict(block_relationships_df_LSK60x_high_acc), \"/data/yf20/meth_phasing/LSK/LSK.methphased.gtf\")"
   ]
  },
  {
   "cell_type": "code",
   "execution_count": 182,
   "id": "8951fca6-10c3-40ef-98c1-3f7f89fe8f26",
   "metadata": {},
   "outputs": [],
   "source": [
    "def get_all_crr_final_blocks_dict(block_relationship_df):\n",
    "    final_block_dict = {}\n",
    "    for i in range(1,23):\n",
    "        current_chr = f'chr{i}'\n",
    "        current_block_relationship_df = block_relationship_df[current_chr]\n",
    "        current_block_relationship_df_crr = current_block_relationship_df[((current_block_relationship_df.vcf_file_relationship == 'same') & (current_block_relationship_df.myth_phasing_relationship == 'same')) | ((current_block_relationship_df.vcf_file_relationship == 'not same') & (current_block_relationship_df.myth_phasing_relationship == 'not same'))]  \n",
    "        data = list(current_block_relationship_df_crr.index)\n",
    "        current_chr_index = []\n",
    "        for k, g in groupby(enumerate(data), lambda ix : ix[0] - ix[1]):\n",
    "            current_chr_index.append(list(map(itemgetter(1), g)))\n",
    "        # print(current_chr_index)\n",
    "        current_block_list = []\n",
    "        for j in current_chr_index:\n",
    "            # print(j)\n",
    "            start = eval(current_block_relationship_df_crr.loc[j[0]].snp_phased_block_1)[0]\n",
    "            end = eval(current_block_relationship_df_crr.loc[j[-1]].snp_phased_block_2)[1]\n",
    "            current_block_list.append((start,end))\n",
    "        # print(data)\n",
    "        for j in list(current_block_relationship_df.index)[:-1]:\n",
    "            if j not in data:\n",
    "                   \n",
    "                if j == 0:\n",
    "                    start = eval(current_block_relationship_df.loc[j].snp_phased_block_1)[0]\n",
    "                    end = eval(current_block_relationship_df.loc[j].snp_phased_block_1)[1]\n",
    "                    current_block_list.append((start,end))\n",
    "                if j+1 not in data:\n",
    "                    start = eval(current_block_relationship_df.loc[j].snp_phased_block_2)[0]\n",
    "                    end = eval(current_block_relationship_df.loc[j].snp_phased_block_2)[1]\n",
    "                    # print(j,(start,end), end=\" \")\n",
    "                    current_block_list.append((start,end))     \n",
    "        final_block_dict.update({current_chr:current_block_list})\n",
    "\n",
    "    return final_block_dict"
   ]
  },
  {
   "cell_type": "code",
   "execution_count": 25,
   "id": "4ceca227-6304-46f9-aa07-067ee6044a47",
   "metadata": {},
   "outputs": [],
   "source": [
    "def get_all_final_blocks_dict_no_snp(block_relationship_df):\n",
    "    final_block_dict = {}\n",
    "    for i in range(1,23):\n",
    "        current_chr = f'chr{i}'\n",
    "        current_block_relationship_df = block_relationship_df[current_chr]\n",
    "        current_block_relationship_df_crr = current_block_relationship_df[current_block_relationship_df.myth_phasing_relationship != 'cannot decide']  \n",
    "        # current_block_relationship_df_crr = current_block_relationship_df\n",
    "        data = list(current_block_relationship_df_crr.index)\n",
    "        current_chr_index = []\n",
    "        for k, g in groupby(enumerate(data), lambda ix : ix[0] - ix[1]):\n",
    "            current_chr_index.append(list(map(itemgetter(1), g)))\n",
    "        # print(current_chr_index)\n",
    "        current_block_list = []\n",
    "        for j in current_chr_index:\n",
    "            # print(j)\n",
    "            start = eval(current_block_relationship_df_crr.loc[j[0]].snp_phased_block_1)[0]\n",
    "            end = eval(current_block_relationship_df_crr.loc[j[-1]].snp_phased_block_2)[1]\n",
    "            current_block_list.append((start,end))\n",
    "        # print(data)\n",
    "        for j in list(current_block_relationship_df.index)[:-1]:\n",
    "            if j not in data:\n",
    "                if j == 0:\n",
    "                    start = eval(current_block_relationship_df.loc[j].snp_phased_block_1)[0]\n",
    "                    end = eval(current_block_relationship_df.loc[j].snp_phased_block_1)[1]\n",
    "                    current_block_list.append((start,end))\n",
    "                if j+1 not in data:\n",
    "                    start = eval(current_block_relationship_df.loc[j].snp_phased_block_2)[0]\n",
    "                    end = eval(current_block_relationship_df.loc[j].snp_phased_block_2)[1]\n",
    "                    # print(j,(start,end), end=\" \")\n",
    "                    current_block_list.append((start,end))\n",
    "                if j+2 == len(current_block_relationship_df):\n",
    "                    start = eval(current_block_relationship_df.loc[j+1].snp_phased_block_2)[0]\n",
    "                    end = eval(current_block_relationship_df.loc[j+1].snp_phased_block_2)[1]\n",
    "                    current_block_list.append((start,end))\n",
    "        final_block_dict.update({current_chr:current_block_list})\n",
    "                    \n",
    "    return final_block_dict"
   ]
  },
  {
   "cell_type": "markdown",
   "id": "874dce12-aa01-4465-88e4-ae981e410f74",
   "metadata": {},
   "source": [
    "# Medical relevant genes"
   ]
  },
  {
   "cell_type": "code",
   "execution_count": 298,
   "id": "d2f44e96-ce34-4a63-887d-0e358a7afe7b",
   "metadata": {},
   "outputs": [],
   "source": [
    "def get_linked_gene_num(methphase_block, gene):\n",
    "    chr_relevance_meth_phasing_list = list(zip(methphase_block, gene))\n",
    "    chr_relevance_meth_phasing_dict = {}\n",
    "    for i in chr_relevance_meth_phasing_list:\n",
    "        if i[0] not in list(chr_relevance_meth_phasing_dict.keys()):\n",
    "            chr_relevance_meth_phasing_dict.update({i[0]: [i[1]]})\n",
    "        else:\n",
    "            chr_relevance_meth_phasing_dict[i[0]].append(i[1])\n",
    "    total_meth_phase_linked_num_list = []\n",
    "    for i in chr_relevance_meth_phasing_dict.keys():\n",
    "        if i != None:\n",
    "            total_meth_phase_linked_num_list.append(len(chr_relevance_meth_phasing_dict[i])) \n",
    "    return total_meth_phase_linked_num_list"
   ]
  },
  {
   "cell_type": "code",
   "execution_count": 299,
   "id": "3db7c0eb-6585-4ac2-ad5e-858cdded8e22",
   "metadata": {},
   "outputs": [],
   "source": [
    "def get_block_lists(cmrg_benchmark,lsk_meth_phase_final_blocks, lsk_hapcut2_final_blocks):\n",
    "    meth_phase_block_list = []\n",
    "    meth_phase_block_dict_per_chr = {}\n",
    "    snp_phase_block_list = []\n",
    "    snp_phase_block_dict_per_chr = {}\n",
    "    for index, i in cmrg_benchmark.iterrows():\n",
    "        meth_phase_block_list_chr = []\n",
    "        meth_phase_found_flag = 0\n",
    "        for j in lsk_meth_phase_final_blocks[i.chr]:\n",
    "            if i.start < j[1] and i.end > j[0]:\n",
    "                meth_phase_block_list.append(j)\n",
    "                meth_phase_found_flag = 1\n",
    "                break\n",
    "        if meth_phase_found_flag == 0:\n",
    "            meth_phase_block_list.append(None)\n",
    "\n",
    "        snp_phase_block_list_chr = []\n",
    "        snp_phase_found_flag = 0    \n",
    "        for j in lsk_hapcut2_final_blocks[i.chr]:\n",
    "            if i.start < j[1] and i.end > j[0]:\n",
    "                snp_phase_block_list.append(j)\n",
    "                snp_phase_found_flag = 1\n",
    "                break\n",
    "        if snp_phase_found_flag == 0:\n",
    "            snp_phase_block_list.append(None)\n",
    "    return meth_phase_block_list, snp_phase_block_list"
   ]
  },
  {
   "cell_type": "code",
   "execution_count": 304,
   "id": "93ffe8a7-61e7-453e-a18d-4ef24088b5d9",
   "metadata": {},
   "outputs": [],
   "source": [
    "def get_linked_relevent_gene_dict(cmrg_benchmark): \n",
    "    linked_relevent_gene_dict = {}\n",
    "    for j in range(1,23):\n",
    "        cmrg_bench_chr = cmrg_benchmark[cmrg_benchmark['chr']==f\"chr{j}\"]\n",
    "        meth_linked_gene_num = get_linked_gene_num(cmrg_bench_chr.methphase_block, cmrg_bench_chr.gene)\n",
    "        snp_linked_gene_num = get_linked_gene_num(cmrg_bench_chr.snp_phase_block, cmrg_bench_chr.gene)\n",
    "        linked_relevent_gene_dict.update({f\"chr{j}\":(meth_linked_gene_num, snp_linked_gene_num)})\n",
    "    return linked_relevent_gene_dict"
   ]
  },
  {
   "cell_type": "code",
   "execution_count": 305,
   "id": "e25a54fe-41ee-47fb-aa87-0f2ab85960f6",
   "metadata": {},
   "outputs": [],
   "source": [
    "# 273 gene file\n",
    "cmrg_benchmark = pd.read_csv(\"/data/yf20/meth_phasing/GRCh38_CMRG_benchmark_gene_coordinates.bed\", sep=\"\\t\", header=None, names=['chr', 'start', 'end', \"gene\"])\n"
   ]
  },
  {
   "cell_type": "code",
   "execution_count": 196,
   "id": "90aa7740-97c8-4f64-a73c-457b90b2abd1",
   "metadata": {},
   "outputs": [],
   "source": [
    "(pd.DataFrame.from_dict(linked_relevent_gene_dict)).to_csv(\"/data/yf20/meth_phasing/medical_relevance_gene_comparison.csv\")\n",
    "medical_relevance_df = pd.read_excel(\"/data/yf20/meth_phasing/2021 Gene Panel LR.xlsx\", names=['chr', 'start', 'end', \"length\", \"gene\", \"relevance\"], index_col=False)"
   ]
  },
  {
   "cell_type": "code",
   "execution_count": 337,
   "id": "678fdbe3-ef74-4511-9159-47664285fe44",
   "metadata": {},
   "outputs": [
    {
     "name": "stderr",
     "output_type": "stream",
     "text": [
      "100%|██████████| 22/22 [00:51<00:00,  2.35s/it]\n",
      "100%|██████████| 22/22 [00:46<00:00,  2.11s/it]\n",
      "100%|██████████| 22/22 [00:55<00:00,  2.52s/it]\n"
     ]
    }
   ],
   "source": [
    "block_relationships_df_HG01109_high_acc = get_block_relationships(\"/data/yf20/meth_phasing/HG01109/whole_genome_1/\", 8, 0.3)\n",
    "final_block_dict_HG01109, remaining_dict_HG01109, flipping_dict_HG01109 = get_altered_vcf(\"/data/yf20/meth_phasing/HG01109/HG01109.called.phased_blocks.txt.phased.VCF.gz\", \"/data/yf20/meth_phasing/HG01109/HG01109.filtered.alteded.vcf\", block_relationships_df_HG01109_high_acc)\n",
    "block_relationships_df_HG02080_high_acc = get_block_relationships(\"/data/yf20/meth_phasing/HG02080/whole_genome_1/\", 8, 0.3)\n",
    "final_block_dict_HG02080, remaining_dict_HG02080, flipping_dict_HG02080 = get_altered_vcf(\"/data/yf20/meth_phasing/HG02080/HG02080.called.phased_blocks.txt.phased.VCF.gz\", \"/data/yf20/meth_phasing/HG02080/HG02080.filtered.alteded.vcf\", block_relationships_df_HG02080_high_acc)\n",
    "block_relationships_df_HG03098_high_acc = get_block_relationships(\"/data/yf20/meth_phasing/HG03098/whole_genome_1/\", 8, 0.3)\n",
    "final_block_dict_HG03098, remaining_dict_HG03098, flipping_dict_HG03098 = get_altered_vcf(\"/data/yf20/meth_phasing/HG03098/HG03098.called.phased_blocks.txt.phased.VCF.gz\", \"/data/yf20/meth_phasing/HG03098/HG03098.filtered.alteded.vcf\", block_relationships_df_HG03098_high_acc)"
   ]
  },
  {
   "cell_type": "code",
   "execution_count": 368,
   "id": "37f441f9-a830-4fc9-9321-334a3fdd4e63",
   "metadata": {},
   "outputs": [],
   "source": [
    "HG01109_meth_phase_final_blocks = get_all_final_blocks_dict_no_snp(block_relationships_df_HG01109_high_acc)\n",
    "output_gtf(HG01109_meth_phase_final_blocks, \"/data/yf20/meth_phasing/HG01109/HG01109.methtagged.gtf\")\n",
    "HG02080_meth_phase_final_blocks = get_all_final_blocks_dict_no_snp(block_relationships_df_HG02080_high_acc)\n",
    "output_gtf(HG02080_meth_phase_final_blocks, \"/data/yf20/meth_phasing/HG02080/HG02080.methtagged.gtf\")\n",
    "HG03098_meth_phase_final_blocks = get_all_final_blocks_dict_no_snp(block_relationships_df_HG03098_high_acc)\n",
    "output_gtf(HG03098_meth_phase_final_blocks, \"/data/yf20/meth_phasing/HG03098/HG03098.methtagged.gtf\")"
   ]
  },
  {
   "cell_type": "code",
   "execution_count": 300,
   "id": "14077366-4c6e-481b-ab80-18ac1d3487c8",
   "metadata": {},
   "outputs": [],
   "source": [
    "#pangenome \n",
    "HG01109_snp_block = get_whatshap_phase_block_dict(\"/data/yf20/meth_phasing/HG01109/HG01109.gtf\")\n",
    "HG02080_snp_block = get_whatshap_phase_block_dict(\"/data/yf20/meth_phasing/HG02080/HG02080.gtf\")\n",
    "HG03098_snp_block = get_whatshap_phase_block_dict(\"/data/yf20/meth_phasing/HG03098/HG03098.gtf\")\n"
   ]
  },
  {
   "cell_type": "code",
   "execution_count": 369,
   "id": "3fcea944-7e9a-4665-9a7f-5b6bc2de8a8e",
   "metadata": {},
   "outputs": [],
   "source": [
    "HG01109_meth_med_block, HG01109_snp_med_block = get_block_lists(cmrg_benchmark, HG01109_meth_phase_final_blocks, HG01109_snp_block)\n",
    "HG02080_meth_med_block, HG02080_snp_med_block = get_block_lists(cmrg_benchmark, HG02080_meth_phase_final_blocks, HG02080_snp_block)\n",
    "HG03098_meth_med_block, HG03098_snp_med_block = get_block_lists(cmrg_benchmark, HG03098_meth_phase_final_blocks, HG03098_snp_block)"
   ]
  },
  {
   "cell_type": "code",
   "execution_count": null,
   "id": "171ede3a-2bf7-4d5a-95ba-0318e047bfd2",
   "metadata": {},
   "outputs": [],
   "source": []
  },
  {
   "cell_type": "code",
   "execution_count": 373,
   "id": "9b437e0a-277c-42f3-b7f6-865a33afb7f3",
   "metadata": {},
   "outputs": [
    {
     "name": "stdout",
     "output_type": "stream",
     "text": [
      "76\n",
      "81\n",
      "113\n",
      "123\n",
      "96\n",
      "108\n"
     ]
    }
   ],
   "source": [
    "cmrg_benchmark['HG01109_meth_med_block'] = HG01109_meth_med_block\n",
    "print(len(set(HG01109_meth_med_block)))\n",
    "cmrg_benchmark['HG01109_snp_med_block'] = HG01109_snp_med_block\n",
    "print(len(set(HG01109_snp_med_block)))\n",
    "cmrg_benchmark['HG02080_meth_med_block'] = HG02080_meth_med_block\n",
    "print(len(set(HG02080_meth_med_block)))\n",
    "cmrg_benchmark['HG02080_snp_med_block'] = HG02080_snp_med_block\n",
    "print(len(set(HG02080_snp_med_block)))\n",
    "cmrg_benchmark['HG03098_meth_med_block'] = HG03098_meth_med_block\n",
    "print(len(set(HG03098_meth_med_block)))\n",
    "cmrg_benchmark['HG03098_snp_med_block'] = HG03098_snp_med_block\n",
    "print(len(set(HG03098_snp_med_block)))"
   ]
  },
  {
   "cell_type": "code",
   "execution_count": 409,
   "id": "605a655b-8641-47cc-95ac-5fb31283b855",
   "metadata": {},
   "outputs": [],
   "source": [
    "LSK30X_snp_block = get_whatshap_phase_block_dict(\"/data/yf20/meth_phasing/LSK30X/LSK30X.filtered.gtf\")\n",
    "# block_relationships_df_LSK30x_high_acc = get_block_relationships(\"/data/yf20/meth_phasing/LSK30X/whole_genome_6/\", 8, 0.5)\n",
    "final_block_dict_LSK30x = get_all_crr_final_blocks_dict(block_relationships_df_LSK30x_high_acc)\n",
    "\n",
    "LSK30X_meth_med_block,LSK30X_snp_med_block = get_block_lists(cmrg_benchmark, final_block_dict_LSK30x, LSK30X_snp_block)"
   ]
  },
  {
   "cell_type": "code",
   "execution_count": 410,
   "id": "92ec9c95-fcbb-47a7-ac31-a06cdc351676",
   "metadata": {},
   "outputs": [
    {
     "name": "stdout",
     "output_type": "stream",
     "text": [
      "154\n",
      "169\n"
     ]
    }
   ],
   "source": [
    "cmrg_benchmark['LSK30X_meth_med_block'] = LSK30X_meth_med_block\n",
    "print(len(set(LSK30X_meth_med_block)))\n",
    "cmrg_benchmark['LSK30X_snp_med_block'] = LSK30X_snp_med_block\n",
    "print(len(set(LSK30X_snp_med_block)))"
   ]
  },
  {
   "cell_type": "code",
   "execution_count": 411,
   "id": "0fbf4137-9f73-46a6-ac90-b653c80f459d",
   "metadata": {},
   "outputs": [],
   "source": [
    "cmrg_benchmark.to_csv(\"/data/yf20/meth_phasing/pangenome_medical.csv\")"
   ]
  },
  {
   "cell_type": "code",
   "execution_count": 375,
   "id": "212bccad-4729-4fc0-bd31-aa7bb35bb385",
   "metadata": {},
   "outputs": [],
   "source": [
    "r10_60x_snp_block = get_whatshap_phase_block_dict(\"/data/yf20/meth_phasing/LSK/LSK.filtered.gtf\")"
   ]
  },
  {
   "cell_type": "code",
   "execution_count": 383,
   "id": "45120959-2497-4c09-9657-7c6638eba40f",
   "metadata": {},
   "outputs": [],
   "source": [
    "r10_60x_meth_med_block, r10_60x_snp_med_block = get_block_lists(cmrg_benchmark, r10_60x_meth_phase_final_blocks, r10_60x_snp_block)\n",
    "\n",
    "cmrg_benchmark['LSK_meth_med_block'] = r10_60x_meth_med_block\n",
    "cmrg_benchmark['LSK_snp_med_block'] = r10_60x_snp_med_block"
   ]
  },
  {
   "cell_type": "code",
   "execution_count": 384,
   "id": "04ed636f-c6a8-4435-bbec-026e31e87ff2",
   "metadata": {},
   "outputs": [],
   "source": [
    "cmrg_benchmark.to_csv(\"/data/yf20/meth_phasing/pangenome_medical.csv\")"
   ]
  },
  {
   "cell_type": "code",
   "execution_count": 382,
   "id": "cbdee06c-3be4-4b35-9203-ad9d12d3f578",
   "metadata": {},
   "outputs": [
    {
     "name": "stdout",
     "output_type": "stream",
     "text": [
      "140 160\n",
      "255 258\n"
     ]
    }
   ],
   "source": [
    "print(len(set(r10_60x_meth_med_block)), len(set(r10_60x_snp_med_block)))\n",
    "print(len([i for i in r10_60x_meth_med_block if i is not None]), len([i for i in r10_60x_snp_med_block if i is not None]))"
   ]
  },
  {
   "cell_type": "code",
   "execution_count": 370,
   "id": "0914ada7-3ef7-4020-a6b5-d9b82d9a1407",
   "metadata": {},
   "outputs": [],
   "source": [
    "r9_30x_meth_phase_final_blocks = get_all_crr_final_blocks_dict(block_relationships_df_30x_high_acc)\n",
    "output_gtf(r9_30x_meth_phase_final_blocks, \"/data/yf20/meth_phasing/30x/30x.methtagged.gtf\")"
   ]
  },
  {
   "cell_type": "code",
   "execution_count": 371,
   "id": "3ddd19e7-1d61-4143-9053-d3ea5bfe3607",
   "metadata": {},
   "outputs": [],
   "source": [
    "r9_60x_meth_phase_final_blocks = get_all_crr_final_blocks_dict(block_relationships_df_60x_high_acc)\n",
    "output_gtf(r9_60x_meth_phase_final_blocks, \"/data/yf20/meth_phasing/60x/60x.methtagged.gtf\")"
   ]
  },
  {
   "cell_type": "code",
   "execution_count": 185,
   "id": "ce9d9d94-d824-4bfb-a0ea-fc9392cfa121",
   "metadata": {},
   "outputs": [],
   "source": [
    "r9_60x_meth_phase_final_blocks_high_sr = get_all_crr_final_blocks_dict(block_relationships_df_60x_high_sr)\n",
    "output_gtf(r9_60x_meth_phase_final_blocks_high_sr, \"/data/yf20/meth_phasing/60x/60x.methtagged.high.sr.gtf\")"
   ]
  },
  {
   "cell_type": "code",
   "execution_count": 372,
   "id": "249a4693-4455-45a4-8bfc-2491b9765491",
   "metadata": {},
   "outputs": [],
   "source": [
    "r10_30x_meth_phase_final_blocks = get_all_crr_final_blocks_dict(block_relationships_df_LSK30x_high_acc)\n",
    "output_gtf(r10_30x_meth_phase_final_blocks, \"/data/yf20/meth_phasing/LSK30X/LSK30X.methtagged.gtf\")"
   ]
  },
  {
   "cell_type": "code",
   "execution_count": 377,
   "id": "9d760f89-0784-4ad5-a5b8-06b9b9ad83ad",
   "metadata": {},
   "outputs": [],
   "source": [
    "r10_60x_meth_phase_final_blocks = get_all_crr_final_blocks_dict(block_relationships_df_LSK60x_high_acc)\n",
    "output_gtf(r10_60x_meth_phase_final_blocks, \"/data/yf20/meth_phasing/LSK/LSK.methtagged.gtf\")"
   ]
  },
  {
   "cell_type": "code",
   "execution_count": null,
   "id": "f3e7e7fe-e5c6-4ade-8049-ce37332db3e0",
   "metadata": {},
   "outputs": [],
   "source": [
    "r9_80x_meth_phase_final_blocks = get_all_crr_final_blocks_dict(block_relationships_df_80x_high_acc)\n",
    "output_gtf(r9_80x_meth_phase_final_blocks, \"/data/yf20/meth_phasing/80x/80x.methtagged.gtf\")"
   ]
  },
  {
   "cell_type": "code",
   "execution_count": 33,
   "id": "b5605826-1624-4eba-ba4b-b63f82531d98",
   "metadata": {},
   "outputs": [],
   "source": [
    "def get_unphased_len(input_phased_block_dict):\n",
    "    total_unphased_len = 0\n",
    "    for j in chrom_names:\n",
    "        current_chr_sorted_block_list = sorted(input_phased_block_dict[j], key=lambda x: (x[0],x[1]))\n",
    "        for index, i in enumerate(current_chr_sorted_block_list[:-1]):\n",
    "            total_unphased_len += current_chr_sorted_block_list[index+1][0]-current_chr_sorted_block_list[index][1]\n",
    "    return total_unphased_len-106791076"
   ]
  },
  {
   "cell_type": "code",
   "execution_count": 383,
   "id": "700e3f4b-1187-4732-8a71-b6098a4faac3",
   "metadata": {},
   "outputs": [
    {
     "data": {
      "text/plain": [
       "(240794290,\n",
       " 208957898,\n",
       " 177642340,\n",
       " 133755691,\n",
       " 292445622,\n",
       " 244790521,\n",
       " 253979943,\n",
       " 169662274,\n",
       " 241947076,\n",
       " 153145121)"
      ]
     },
     "execution_count": 383,
     "metadata": {},
     "output_type": "execute_result"
    }
   ],
   "source": [
    "(get_unphased_len(get_whatshap_phase_block_dict(\"/data/yf20/meth_phasing/LSK30X/LSK30X.filtered.gtf\")),\n",
    "get_unphased_len(r10_30x_meth_phase_final_blocks), \n",
    "get_unphased_len(get_whatshap_phase_block_dict(\"/data/yf20/meth_phasing/LSK/LSK.filtered.gtf\")),\n",
    "get_unphased_len(r10_60x_meth_phase_final_blocks), \n",
    "get_unphased_len(get_whatshap_phase_block_dict(\"/data/yf20/meth_phasing/30x/30x.filtered.gtf\")),\n",
    "get_unphased_len(r9_30x_meth_phase_final_blocks), \n",
    "get_unphased_len(get_whatshap_phase_block_dict(\"/data/yf20/meth_phasing/60x/60x.filtered.gtf\")),\n",
    "get_unphased_len(r9_60x_meth_phase_final_blocks), \n",
    "get_unphased_len(get_whatshap_phase_block_dict(\"/data/yf20/meth_phasing/80x/80x.called.regions.gtf\")),\n",
    "get_unphased_len(r9_80x_meth_phase_final_blocks),)"
   ]
  },
  {
   "cell_type": "code",
   "execution_count": 363,
   "id": "242884a7-2e82-439f-b0e5-881e185b32f0",
   "metadata": {},
   "outputs": [],
   "source": [
    "confident_region = pd.read_csv(\"/data/yf20/meth_phasing/HG002_GRCh38_1_22_v4.2.1_benchmark_noinconsistent.bed\", sep=\"\\t\", header=None)\n",
    "unconfident_gaps = 0\n",
    "for i in chrom_names:\n",
    "    unconfident_gaps_chr = []\n",
    "    confident_chr_df = confident_region[confident_region[0] == i]\n",
    "    confident_chr_regions = list(zip(confident_chr_df[1], confident_chr_df[2]))\n",
    "    for index, j in enumerate(confident_chr_regions[:-1]):\n",
    "        unconfident_gaps_chr.append((confident_chr_regions[index+1][0] - confident_chr_regions[index][1] )) \n",
    "    unconfident_gaps += max(unconfident_gaps_chr)\n"
   ]
  },
  {
   "cell_type": "code",
   "execution_count": 364,
   "id": "2d2db68e-dffc-4417-a115-d190fdbbe2ae",
   "metadata": {},
   "outputs": [
    {
     "data": {
      "text/plain": [
       "106791076"
      ]
     },
     "execution_count": 364,
     "metadata": {},
     "output_type": "execute_result"
    }
   ],
   "source": [
    "unconfident_gaps"
   ]
  },
  {
   "cell_type": "code",
   "execution_count": 360,
   "id": "a35022cb-20e0-4608-846c-08259d2b8bb5",
   "metadata": {},
   "outputs": [
    {
     "data": {
      "text/plain": [
       "0.6891496075342427"
      ]
     },
     "execution_count": 360,
     "metadata": {},
     "output_type": "execute_result"
    }
   ],
   "source": [
    "70580696/102417088"
   ]
  },
  {
   "cell_type": "code",
   "execution_count": 362,
   "id": "4a23bf7a-4725-48cd-b0f7-4ad42fb2b0c8",
   "metadata": {},
   "outputs": [
    {
     "data": {
      "text/plain": [
       "0.8822998915730285"
      ]
     },
     "execution_count": 362,
     "metadata": {},
     "output_type": "execute_result"
    }
   ],
   "source": [
    "(39265138-4621511)/39265138"
   ]
  },
  {
   "cell_type": "code",
   "execution_count": null,
   "id": "4dd16930-f528-49bd-9e31-3dbb386f05d6",
   "metadata": {},
   "outputs": [],
   "source": [
    "get_altered_bam(flipping_dict_LSK_60x, remaining_dict_LSK_60x, block_relationships_df_LSK60x_high_acc, \"/data/yf20/meth_phasing/LSK/HG002.LSK.haplotagged.primary.1.bam\", \"/data/yf20/meth_phasing/LSK/HG002.LSK.haplotagged.primary.1.bam\", \"/home/Users/yf20/projects/meth_phasing/lsk.chr6.methtagged.bam\", \"/data/yf20/meth_phasing/LSK/whole_genome_6/chr6_read_assignment/\", 'chr6')"
   ]
  },
  {
   "cell_type": "code",
   "execution_count": 241,
   "id": "a50e7dfc-217c-4ebb-87d6-bfc96c29bfe4",
   "metadata": {},
   "outputs": [],
   "source": [
    "perchrn50df = pd.read_csv(\"/data/yf20/meth_phasing/perchrn50.csv\")"
   ]
  },
  {
   "cell_type": "code",
   "execution_count": 243,
   "id": "c22626cc-38e4-4543-940b-41b66cab7317",
   "metadata": {},
   "outputs": [],
   "source": [
    "perchrn50 = perchrn50df[['chr', 'R10 60X MethPhaser N50', 'R10 60X SNP Phaseblock N50' ]]\n",
    "perchrswitchflip = perchrn50df[['chr', 'R10 60X MethPhaser Switch Error', 'R10 60X SNP Switch Error', 'R10 60X MethPhaser Filp Rate', 'R10 60X SNP Flip Rate']]"
   ]
  },
  {
   "cell_type": "code",
   "execution_count": 244,
   "id": "2270ded4-23f0-438e-bf02-eaee5f7f8f3a",
   "metadata": {},
   "outputs": [],
   "source": [
    "perchrn50melt = pd.melt(perchrn50, id_vars='chr')"
   ]
  },
  {
   "cell_type": "code",
   "execution_count": 245,
   "id": "35a63c02-d2fc-4963-9c9c-951ede55143b",
   "metadata": {},
   "outputs": [],
   "source": [
    "perchrswitchflipmelt = pd.melt(perchrswitchflip, id_vars='chr')"
   ]
  },
  {
   "cell_type": "code",
   "execution_count": null,
   "id": "614eac74-5b74-4e97-a46b-cfaad6b36cad",
   "metadata": {},
   "outputs": [],
   "source": [
    "perchrn50df"
   ]
  },
  {
   "cell_type": "code",
   "execution_count": 443,
   "id": "5e392b3c-df36-495f-9fef-8a879791f858",
   "metadata": {},
   "outputs": [],
   "source": [
    "block_relationships_df_SI10000026_high_acc = get_block_relationships(\"blood_tissues/SI10000026/\", 0, 0.5)\n",
    "block_relationships_df_SI10000033_high_acc = get_block_relationships(\"blood_tissues/SI10000033/\", 0, 0.5)\n",
    "block_relationships_df_SI10000045_high_acc = get_block_relationships(\"blood_tissues/SI10000045/\", 0, 0.5)\n",
    "block_relationships_df_SI10000363_high_acc = get_block_relationships(\"blood_tissues/SI10000363/\", 0, 0.5)\n"
   ]
  },
  {
   "cell_type": "code",
   "execution_count": 444,
   "id": "81afc060-f4a8-4cbe-889a-5ad5def86dcf",
   "metadata": {},
   "outputs": [],
   "source": [
    "SI10000026_meth_phase_final_blocks = get_all_final_blocks_dict_no_snp(block_relationships_df_SI10000026_high_acc)\n",
    "SI10000033_meth_phase_final_blocks = get_all_final_blocks_dict_no_snp(block_relationships_df_SI10000033_high_acc)\n",
    "SI10000045_meth_phase_final_blocks = get_all_final_blocks_dict_no_snp(block_relationships_df_SI10000045_high_acc)\n",
    "SI10000363_meth_phase_final_blocks = get_all_final_blocks_dict_no_snp(block_relationships_df_SI10000363_high_acc)\n",
    "output_gtf(SI10000026_meth_phase_final_blocks, \"blood_tissues/SI10000026.methtagged.gtf\")\n",
    "output_gtf(SI10000033_meth_phase_final_blocks, \"blood_tissues/SI10000033.methtagged.gtf\")\n",
    "output_gtf(SI10000045_meth_phase_final_blocks, \"blood_tissues/SI10000045.methtagged.gtf\")\n",
    "output_gtf(SI10000363_meth_phase_final_blocks, \"blood_tissues/SI10000363.methtagged.gtf\")"
   ]
  },
  {
   "cell_type": "code",
   "execution_count": 445,
   "id": "1f2d5d4c-b77a-44e0-85de-a9187839ef8f",
   "metadata": {},
   "outputs": [
    {
     "name": "stdout",
     "output_type": "stream",
     "text": [
      "397579 471878 401890 567322 444319 519228 431388 665961\n"
     ]
    }
   ],
   "source": [
    "print(\n",
    "    get_whatshap_n50(\"blood_tissues/SI10000026.gtf\"),\n",
    "    get_whatshap_n50(\"blood_tissues/SI10000033.gtf\"),\n",
    "    get_whatshap_n50(\"blood_tissues/SI10000045.gtf\"),\n",
    "    get_whatshap_n50(\"blood_tissues/SI10000363.gtf\"),\n",
    "    get_whatshap_n50(\"blood_tissues/SI10000026.methtagged.gtf\"),\n",
    "    get_whatshap_n50(\"blood_tissues/SI10000033.methtagged.gtf\"),\n",
    "    get_whatshap_n50(\"blood_tissues/SI10000045.methtagged.gtf\"),\n",
    "    get_whatshap_n50(\"blood_tissues/SI10000363.methtagged.gtf\"),\n",
    ")"
   ]
  },
  {
   "cell_type": "code",
   "execution_count": 26,
   "id": "ce9eb065-488e-4da0-aef5-993ea3ea9817",
   "metadata": {},
   "outputs": [],
   "source": [
    "block_relationships_LSK_original = get_block_relationships(\"/data/yf20/meth_phasing/LSK/whole_genome_1/\", 15, 0.5)\n",
    "LSK_original_final_blocks = get_all_final_blocks_dict_no_snp(block_relationships_LSK_original)"
   ]
  },
  {
   "cell_type": "code",
   "execution_count": 29,
   "id": "da74ec09-60e3-4494-bd23-ca49846853e0",
   "metadata": {},
   "outputs": [],
   "source": [
    "output_gtf(LSK_original_final_blocks, \"/data/yf20/meth_phasing/LSK/unfiltered/methtagged.gtf\")\n"
   ]
  },
  {
   "cell_type": "code",
   "execution_count": 30,
   "id": "f7d2fbd2-df03-40eb-89da-46564cd33d79",
   "metadata": {},
   "outputs": [
    {
     "data": {
      "text/plain": [
       "(3391, 2628)"
      ]
     },
     "execution_count": 30,
     "metadata": {},
     "output_type": "execute_result"
    }
   ],
   "source": [
    "get_whatshap_block_num(\"/data/yf20/meth_phasing/LSK/unfiltered/HG002.LSK.gtf\"),get_whatshap_block_num(\"//data/yf20/meth_phasing/LSK/unfiltered/methtagged.gtf\")"
   ]
  },
  {
   "cell_type": "code",
   "execution_count": 35,
   "id": "7f053ee4-6380-4c46-9f3e-3e477c2a170b",
   "metadata": {},
   "outputs": [
    {
     "data": {
      "text/plain": [
       "(124173853, 85572733)"
      ]
     },
     "execution_count": 35,
     "metadata": {},
     "output_type": "execute_result"
    }
   ],
   "source": [
    "get_unphased_len(get_whatshap_phase_block_dict(\"/data/yf20/meth_phasing/LSK/unfiltered/HG002.LSK.gtf\")),get_unphased_len(LSK_original_final_blocks),\n"
   ]
  },
  {
   "cell_type": "code",
   "execution_count": 122,
   "id": "5fc73035-c1d5-4f0b-9d5a-02de6ce91fd7",
   "metadata": {},
   "outputs": [
    {
     "data": {
      "text/plain": [
       "1823404"
      ]
     },
     "execution_count": 122,
     "metadata": {},
     "output_type": "execute_result"
    }
   ],
   "source": [
    "get_whatshap_n50(\"/data/yf20/meth_phasing/30x/unfiltered/30x.called.indels.phased.gtf\")"
   ]
  },
  {
   "cell_type": "code",
   "execution_count": 121,
   "id": "d911f7e8-ea0e-4e96-a069-b6f6347c4d2f",
   "metadata": {},
   "outputs": [
    {
     "data": {
      "text/plain": [
       "1399583"
      ]
     },
     "execution_count": 121,
     "metadata": {},
     "output_type": "execute_result"
    }
   ],
   "source": [
    "get_whatshap_n50(\"/data/yf20/meth_phasing/30x/unfiltered/30x.called.phased.gtf\")"
   ]
  },
  {
   "cell_type": "code",
   "execution_count": 123,
   "id": "af52f2f2-35be-499a-b284-54031d966c1c",
   "metadata": {},
   "outputs": [
    {
     "data": {
      "text/plain": [
       "4425522"
      ]
     },
     "execution_count": 123,
     "metadata": {},
     "output_type": "execute_result"
    }
   ],
   "source": [
    "get_whatshap_n50(\"/data/yf20/meth_phasing/LSK/whatshap_test/whatshap.gtf\")"
   ]
  },
  {
   "cell_type": "code",
   "execution_count": 138,
   "id": "8edd3616-4c9d-4af0-84e2-9ce0c827d35f",
   "metadata": {},
   "outputs": [
    {
     "name": "stderr",
     "output_type": "stream",
     "text": [
      "100%|██████████| 22/22 [00:22<00:00,  1.01s/it]\n"
     ]
    }
   ],
   "source": [
    "block_relationships_df_LSK60x_whatshap_high_acc = get_block_relationships(\"/data/yf20/meth_phasing/LSK/whatshap_test/work/\", 15, 0.5)\n",
    "final_block_dict_LSK_60x_whatshap, remaining_dict_LSK_60x_whatshap, flipping_dict_LSK_60x_whatshap = get_altered_vcf(\"/data/yf20/meth_phasing/LSK/whatshap_test/whatshap_phasing.vcf.gz\", \"/data/yf20/meth_phasing/LSK/whatshap_test/whatshap_phasing_altered.vcf\", block_relationships_df_LSK60x_whatshap_high_acc)"
   ]
  },
  {
   "cell_type": "code",
   "execution_count": 132,
   "id": "7344ea90-732b-4247-9019-bc45d9c7520a",
   "metadata": {},
   "outputs": [],
   "source": [
    "# r10_60x_whatshap_meth_phase_final_blocks = get_block_relationships(block_relationships_df_LSK60x_whatshap_high_acc)\n",
    "output_gtf(block_relationships_df_LSK60x_whatshap_high_acc, \"/data/yf20/meth_phasing/LSK/whatshap_test/methphased.gtf\")"
   ]
  },
  {
   "cell_type": "code",
   "execution_count": 134,
   "id": "9e7c1ef9-32e8-4e1b-9dea-dd94dbca5e01",
   "metadata": {},
   "outputs": [
    {
     "data": {
      "text/plain": [
       "(144858613,)"
      ]
     },
     "execution_count": 134,
     "metadata": {},
     "output_type": "execute_result"
    }
   ],
   "source": [
    "get_methphase_n50(block_relationships_df_LSK60x_whatshap_high_acc),\n"
   ]
  },
  {
   "cell_type": "code",
   "execution_count": null,
   "id": "6f70cf2f-a64d-4098-b347-1b3c8d71f66f",
   "metadata": {},
   "outputs": [],
   "source": []
  }
 ],
 "metadata": {
  "kernelspec": {
   "display_name": "Python 3",
   "language": "python",
   "name": "python3"
  },
  "language_info": {
   "codemirror_mode": {
    "name": "ipython",
    "version": 3
   },
   "file_extension": ".py",
   "mimetype": "text/x-python",
   "name": "python",
   "nbconvert_exporter": "python",
   "pygments_lexer": "ipython3",
   "version": "3.8.13"
  }
 },
 "nbformat": 4,
 "nbformat_minor": 5
}
